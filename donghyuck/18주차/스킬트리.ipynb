{
 "cells": [
  {
   "cell_type": "code",
   "execution_count": 72,
   "id": "e76344c0-06da-41d4-b03f-57b6f07bd140",
   "metadata": {},
   "outputs": [],
   "source": [
    "skill = \"CBDE\"\n",
    "skill_trees = [\"BACDE\", \"CBADFE\", \"AECB\", \"BDA\", \"CRB\"]"
   ]
  },
  {
   "cell_type": "code",
   "execution_count": 73,
   "id": "c3928f2b-907c-4088-900b-0524071e3ede",
   "metadata": {},
   "outputs": [
    {
     "data": {
      "text/plain": [
       "['C', 'B', 'D', 'E']"
      ]
     },
     "execution_count": 73,
     "metadata": {},
     "output_type": "execute_result"
    }
   ],
   "source": [
    "skill = list(skill)\n",
    "skill"
   ]
  },
  {
   "cell_type": "code",
   "execution_count": 74,
   "id": "c2836343-9c46-4a57-88b5-1ce07cef2a1c",
   "metadata": {},
   "outputs": [],
   "source": [
    "array = []\n",
    "for i in skill_trees:\n",
    "    array.append(list(i))"
   ]
  },
  {
   "cell_type": "code",
   "execution_count": 75,
   "id": "885d967b-1b38-4ce4-a702-918b86aa660d",
   "metadata": {},
   "outputs": [
    {
     "data": {
      "text/plain": [
       "[['B', 'A', 'C', 'D', 'E'],\n",
       " ['C', 'B', 'A', 'D', 'F', 'E'],\n",
       " ['A', 'E', 'C', 'B'],\n",
       " ['B', 'D', 'A'],\n",
       " ['C', 'R', 'B']]"
      ]
     },
     "execution_count": 75,
     "metadata": {},
     "output_type": "execute_result"
    }
   ],
   "source": [
    "array"
   ]
  },
  {
   "cell_type": "code",
   "execution_count": 80,
   "id": "5105c5c2-2348-48b0-a92d-301c4fefb43a",
   "metadata": {},
   "outputs": [
    {
     "name": "stdout",
     "output_type": "stream",
     "text": [
      "[2]\n",
      "[0, 1, 3, 5]\n",
      "[2, 3, 102]\n",
      "[100]\n",
      "[0, 2, 102, 103]\n"
     ]
    }
   ],
   "source": [
    "answer = 0\n",
    "for i in array:\n",
    "    \n",
    "    temp = []\n",
    "    cnt = 0\n",
    "    for j in skill:\n",
    "        \n",
    "        if j in i:\n",
    "            temp.append(i.index(j))\n",
    "        else:\n",
    "            temp.append(100+cnt)\n",
    "        cnt += 1\n",
    "        \n",
    "        if cnt >= 2:\n",
    "            if temp[cnt-1] <= temp[cnt-2]:\n",
    "                temp.pop()\n",
    "                break\n",
    "    if len(temp)==len(skill):\n",
    "        answer +=1\n",
    "    print(temp)"
   ]
  },
  {
   "cell_type": "code",
   "execution_count": 81,
   "id": "a0730c55-0128-4148-a9d1-0df904462d81",
   "metadata": {},
   "outputs": [
    {
     "data": {
      "text/plain": [
       "2"
      ]
     },
     "execution_count": 81,
     "metadata": {},
     "output_type": "execute_result"
    }
   ],
   "source": [
    "answer"
   ]
  },
  {
   "cell_type": "code",
   "execution_count": null,
   "id": "8066b8c4-8f55-4e1d-8366-ac3e62da1aa9",
   "metadata": {},
   "outputs": [],
   "source": []
  }
 ],
 "metadata": {
  "kernelspec": {
   "display_name": "Python 3",
   "language": "python",
   "name": "python3"
  },
  "language_info": {
   "codemirror_mode": {
    "name": "ipython",
    "version": 3
   },
   "file_extension": ".py",
   "mimetype": "text/x-python",
   "name": "python",
   "nbconvert_exporter": "python",
   "pygments_lexer": "ipython3",
   "version": "3.8.8"
  }
 },
 "nbformat": 4,
 "nbformat_minor": 5
}
