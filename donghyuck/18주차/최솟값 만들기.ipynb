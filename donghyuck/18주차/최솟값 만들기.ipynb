{
 "cells": [
  {
   "cell_type": "code",
   "execution_count": 2,
   "id": "8bb553cc-6193-4f9f-8198-4df3f901bb14",
   "metadata": {},
   "outputs": [],
   "source": [
    "A = [1, 4, 2]\n",
    "B = [5, 4, 4]"
   ]
  },
  {
   "cell_type": "code",
   "execution_count": 10,
   "id": "7b518da1-1e43-4de3-8809-f87958f32526",
   "metadata": {},
   "outputs": [],
   "source": [
    "def solution(A,B):\n",
    "    answer = 0\n",
    "\n",
    "    A.sort()\n",
    "    B.sort(reverse=True)\n",
    "    \n",
    "    answer = 0\n",
    "    for i in range(len(A)):\n",
    "        answer += A[i]*B[i]\n",
    "    \n",
    "    return answer"
   ]
  },
  {
   "cell_type": "code",
   "execution_count": 11,
   "id": "cdd0283f-9fb5-4368-a94d-495c86684191",
   "metadata": {},
   "outputs": [
    {
     "data": {
      "text/plain": [
       "29"
      ]
     },
     "execution_count": 11,
     "metadata": {},
     "output_type": "execute_result"
    }
   ],
   "source": [
    "solution(A,B)"
   ]
  },
  {
   "cell_type": "code",
   "execution_count": 8,
   "id": "ae865d81-e19b-475c-a0df-f5f4b59c1222",
   "metadata": {},
   "outputs": [],
   "source": [
    "answer = 0\n",
    "for i in range(len(A)):\n",
    "    answer += A[i]*B[i]"
   ]
  },
  {
   "cell_type": "code",
   "execution_count": 9,
   "id": "ceb8bc5b-08b8-41ec-b187-bd483ef38c66",
   "metadata": {},
   "outputs": [
    {
     "data": {
      "text/plain": [
       "29"
      ]
     },
     "execution_count": 9,
     "metadata": {},
     "output_type": "execute_result"
    }
   ],
   "source": [
    "answer"
   ]
  },
  {
   "cell_type": "code",
   "execution_count": null,
   "id": "acc50e71-e29c-4fe3-8e0a-e36752c35851",
   "metadata": {},
   "outputs": [],
   "source": []
  }
 ],
 "metadata": {
  "kernelspec": {
   "display_name": "Python 3",
   "language": "python",
   "name": "python3"
  },
  "language_info": {
   "codemirror_mode": {
    "name": "ipython",
    "version": 3
   },
   "file_extension": ".py",
   "mimetype": "text/x-python",
   "name": "python",
   "nbconvert_exporter": "python",
   "pygments_lexer": "ipython3",
   "version": "3.8.8"
  }
 },
 "nbformat": 4,
 "nbformat_minor": 5
}
