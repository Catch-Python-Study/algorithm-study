{
 "cells": [
  {
   "cell_type": "markdown",
   "id": "8aaac6a1-54e0-449d-8da0-aa87177ca5be",
   "metadata": {},
   "source": [
    "JadenCase란 모든 단어의 첫 문자가 대문자이고, 그 외의 알파벳은 소문자인 문자열입니다. 문자열 s가 주어졌을 때, s를 JadenCase로 바꾼 문자열을 리턴하는 함수, solution을 완성해주세요."
   ]
  },
  {
   "cell_type": "code",
   "execution_count": 85,
   "id": "f7151b88-d245-468e-89ad-e666ea42e257",
   "metadata": {},
   "outputs": [],
   "source": [
    "s = \"31A2f34 unFollowEd me 5 a 31A2f34\""
   ]
  },
  {
   "cell_type": "code",
   "execution_count": 86,
   "id": "4908fa65-32d7-4ff3-8623-c8172193b180",
   "metadata": {},
   "outputs": [
    {
     "data": {
      "text/plain": [
       "['31A2f34', 'unFollowEd', 'me', '5', 'a', '31A2f34']"
      ]
     },
     "execution_count": 86,
     "metadata": {},
     "output_type": "execute_result"
    }
   ],
   "source": [
    "arr = s.split()\n",
    "arr"
   ]
  },
  {
   "cell_type": "code",
   "execution_count": 87,
   "id": "2a1c1f70-cab2-44e5-bde4-3cf7b27f430a",
   "metadata": {},
   "outputs": [],
   "source": [
    "answer = []\n",
    "for i in arr:\n",
    "    if i[0].islower():\n",
    "        change = i[0].upper() + i[1:].lower()\n",
    "        answer.append(change)\n",
    "    else:\n",
    "        answer.append(i[0] + i[1:].lower())\n",
    "\n",
    "answer = ' '.join(answer)"
   ]
  },
  {
   "cell_type": "code",
   "execution_count": 88,
   "id": "e3c878da-ee7a-4af2-80df-612c849562b6",
   "metadata": {},
   "outputs": [
    {
     "data": {
      "text/plain": [
       "'31a2f34 Unfollowed Me 5 A 31a2f34'"
      ]
     },
     "execution_count": 88,
     "metadata": {},
     "output_type": "execute_result"
    }
   ],
   "source": [
    "answer"
   ]
  },
  {
   "cell_type": "code",
   "execution_count": 89,
   "id": "1aa8c71b-6dac-43f7-a7fc-b48aaa795ab0",
   "metadata": {},
   "outputs": [],
   "source": [
    "answer = []\n",
    "for i in arr:\n",
    "    change = i[0].upper() + i[1:].lower()\n",
    "    answer.append(change)\n",
    "    \n",
    "answer = ' '.join(answer)"
   ]
  },
  {
   "cell_type": "code",
   "execution_count": 90,
   "id": "f712d90a-e14d-497f-9d3f-ddc984816805",
   "metadata": {},
   "outputs": [
    {
     "data": {
      "text/plain": [
       "'31a2f34 Unfollowed Me 5 A 31a2f34'"
      ]
     },
     "execution_count": 90,
     "metadata": {},
     "output_type": "execute_result"
    }
   ],
   "source": [
    "answer"
   ]
  },
  {
   "cell_type": "code",
   "execution_count": null,
   "id": "f46f80de-00a6-41e2-9099-688e58e45e47",
   "metadata": {},
   "outputs": [],
   "source": []
  }
 ],
 "metadata": {
  "kernelspec": {
   "display_name": "Python 3",
   "language": "python",
   "name": "python3"
  },
  "language_info": {
   "codemirror_mode": {
    "name": "ipython",
    "version": 3
   },
   "file_extension": ".py",
   "mimetype": "text/x-python",
   "name": "python",
   "nbconvert_exporter": "python",
   "pygments_lexer": "ipython3",
   "version": "3.8.8"
  }
 },
 "nbformat": 4,
 "nbformat_minor": 5
}
