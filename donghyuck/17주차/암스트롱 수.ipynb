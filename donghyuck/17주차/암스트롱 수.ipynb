{
 "cells": [
  {
   "cell_type": "code",
   "execution_count": null,
   "id": "7c238784-1fd9-4de5-8d04-6fd298f5e7c7",
   "metadata": {},
   "outputs": [
    {
     "name": "stdin",
     "output_type": "stream",
     "text": [
      " 0 99999999999\n"
     ]
    },
    {
     "name": "stdout",
     "output_type": "stream",
     "text": [
      "0 1 153 370 371 407 "
     ]
    }
   ],
   "source": [
    "import numpy as np\n",
    "start, end = map(int, input().split())\n",
    "\n",
    "\n",
    "for i in range(start, end+1):\n",
    "    num = list(map(int, str(i)))\n",
    "    num = np.array(num)\n",
    "    if i == sum(num**3):\n",
    "        print(i, end = ' ')"
   ]
  },
  {
   "cell_type": "code",
   "execution_count": null,
   "id": "5ce6fea5-ad72-45e8-a768-bd145732bbeb",
   "metadata": {},
   "outputs": [],
   "source": []
  }
 ],
 "metadata": {
  "kernelspec": {
   "display_name": "Python 3",
   "language": "python",
   "name": "python3"
  },
  "language_info": {
   "codemirror_mode": {
    "name": "ipython",
    "version": 3
   },
   "file_extension": ".py",
   "mimetype": "text/x-python",
   "name": "python",
   "nbconvert_exporter": "python",
   "pygments_lexer": "ipython3",
   "version": "3.8.8"
  }
 },
 "nbformat": 4,
 "nbformat_minor": 5
}
