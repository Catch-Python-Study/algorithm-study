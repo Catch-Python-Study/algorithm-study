{
 "cells": [
  {
   "cell_type": "code",
   "execution_count": 11,
   "id": "90cb9a4f-57d3-42b1-accc-1d565b834637",
   "metadata": {},
   "outputs": [
    {
     "name": "stdin",
     "output_type": "stream",
     "text": [
      " 3 6\n"
     ]
    }
   ],
   "source": [
    "n, m = map(int, input().split())"
   ]
  },
  {
   "cell_type": "code",
   "execution_count": 12,
   "id": "35bcd06c-13b0-4f66-b5e1-46c8b6eed1bf",
   "metadata": {},
   "outputs": [
    {
     "name": "stdin",
     "output_type": "stream",
     "text": [
      " black blue red\n"
     ]
    }
   ],
   "source": [
    "color = list(input().split())"
   ]
  },
  {
   "cell_type": "code",
   "execution_count": 13,
   "id": "5a412829-6879-42d1-8b7d-d7aaea67b7c3",
   "metadata": {},
   "outputs": [
    {
     "name": "stdin",
     "output_type": "stream",
     "text": [
      " 5 black\n",
      " 5 black\n",
      " 5 black\n",
      " 5 black\n",
      " 3 red\n",
      " 3 blue\n"
     ]
    }
   ],
   "source": [
    "laundry = []\n",
    "for i in range(m):\n",
    "    laundry.append(list(input().split()))"
   ]
  },
  {
   "cell_type": "code",
   "execution_count": null,
   "id": "48b407fa-0c64-41b6-8090-6c256c26efdc",
   "metadata": {},
   "outputs": [],
   "source": [
    "5 black\n",
    " 5 black\n",
    " 5 black\n",
    " 3 red\n",
    "  3 blue"
   ]
  },
  {
   "cell_type": "code",
   "execution_count": 14,
   "id": "edecb660-0310-406c-a5ca-fe952163f8a6",
   "metadata": {},
   "outputs": [
    {
     "data": {
      "text/plain": [
       "[['5', 'black'],\n",
       " ['5', 'black'],\n",
       " ['5', 'black'],\n",
       " ['5', 'black'],\n",
       " ['3', 'red'],\n",
       " ['3', 'blue']]"
      ]
     },
     "execution_count": 14,
     "metadata": {},
     "output_type": "execute_result"
    }
   ],
   "source": [
    "laundry"
   ]
  },
  {
   "cell_type": "code",
   "execution_count": 32,
   "id": "fd663795-a8ac-41d1-8e76-6cf64fe2fb9f",
   "metadata": {},
   "outputs": [],
   "source": [
    "sortlist = []\n",
    "for i in range(n):\n",
    "    sortlist.append(list())"
   ]
  },
  {
   "cell_type": "code",
   "execution_count": 33,
   "id": "8144dee6-9f3a-455d-82e2-ed0a1270ebc0",
   "metadata": {},
   "outputs": [
    {
     "data": {
      "text/plain": [
       "[[], [], []]"
      ]
     },
     "execution_count": 33,
     "metadata": {},
     "output_type": "execute_result"
    }
   ],
   "source": [
    "sortlist"
   ]
  },
  {
   "cell_type": "code",
   "execution_count": 34,
   "id": "dba46a06-2631-4178-a2c6-b979c38a1241",
   "metadata": {},
   "outputs": [],
   "source": [
    "for j in range(n):\n",
    "    for i in range(m):\n",
    "        if laundry[i][1]==color[j]:\n",
    "            sortlist[j].append(i)"
   ]
  },
  {
   "cell_type": "code",
   "execution_count": 35,
   "id": "48a95f89-333f-4a25-a325-c5c186cb521f",
   "metadata": {},
   "outputs": [
    {
     "data": {
      "text/plain": [
       "[[0, 1, 2, 3], [5], [4]]"
      ]
     },
     "execution_count": 35,
     "metadata": {},
     "output_type": "execute_result"
    }
   ],
   "source": [
    "sortlist"
   ]
  },
  {
   "cell_type": "code",
   "execution_count": 40,
   "id": "b952b875-13f9-4cc4-8667-7da2ca823113",
   "metadata": {},
   "outputs": [
    {
     "name": "stdout",
     "output_type": "stream",
     "text": [
      "0 10\n",
      "1 13\n",
      "2 16\n"
     ]
    }
   ],
   "source": [
    "total = 0\n",
    "for nn in range(n):\n",
    "    samecolor = []\n",
    "    for i in sortlist[nn]:\n",
    "        samecolor.append(laundry[i][0])\n",
    "    samecolor = list(map(int, samecolor))\n",
    "    samecolor.sort()\n",
    "\n",
    "    person1 = 0\n",
    "    person2 = 0\n",
    "    while True:\n",
    "        if len(samecolor)==0:\n",
    "            break\n",
    "        \n",
    "        if person1>person2:\n",
    "            person2 += samecolor[-1]\n",
    "            samecolor.pop()\n",
    "        else:\n",
    "            person1 += samecolor[-1]\n",
    "            samecolor.pop()\n",
    "    \n",
    "    if person1>=person2:\n",
    "        total += person1\n",
    "    else:\n",
    "        total += person2\n",
    "    print(nn, total)"
   ]
  },
  {
   "cell_type": "code",
   "execution_count": 39,
   "id": "4f8630ee-0189-4dbc-b2c2-0ecb6779fde7",
   "metadata": {},
   "outputs": [
    {
     "data": {
      "text/plain": [
       "16"
      ]
     },
     "execution_count": 39,
     "metadata": {},
     "output_type": "execute_result"
    }
   ],
   "source": [
    "total"
   ]
  },
  {
   "cell_type": "code",
   "execution_count": null,
   "id": "656868a4-573d-4d79-a625-466ed97fcd91",
   "metadata": {},
   "outputs": [],
   "source": []
  }
 ],
 "metadata": {
  "kernelspec": {
   "display_name": "Python 3",
   "language": "python",
   "name": "python3"
  },
  "language_info": {
   "codemirror_mode": {
    "name": "ipython",
    "version": 3
   },
   "file_extension": ".py",
   "mimetype": "text/x-python",
   "name": "python",
   "nbconvert_exporter": "python",
   "pygments_lexer": "ipython3",
   "version": "3.8.8"
  }
 },
 "nbformat": 4,
 "nbformat_minor": 5
}
