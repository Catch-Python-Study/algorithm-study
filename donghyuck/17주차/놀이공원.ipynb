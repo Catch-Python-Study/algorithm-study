{
 "cells": [
  {
   "cell_type": "code",
   "execution_count": null,
   "id": "16cba7aa-af6f-453f-9cd0-82ca1908f25c",
   "metadata": {},
   "outputs": [],
   "source": [
    "import numpy as np\n",
    "testcase = int(input())\n",
    "\n",
    "for test in range(testcase):\n",
    "\tn, k = map(int,input().split())\n",
    "\tland = np.array([])\n",
    "\tfor i in range(n):\n",
    "\t\t\tarr = list(map(int, input().split()))\n",
    "\t\t\tland = np.append(land, arr, axis = 0)\n",
    "\tland = np.reshape(land,(n,n))\n",
    "\n",
    "\tnew_land = np.zeros([n-(k-1),n-(k-1)])\n",
    "\tfor i in range(n-(k-1)):\n",
    "\t\t\tfor j in range(n-(k-1)):\n",
    "\t\t\t\t\tnew_land[i,j] = np.sum(land[i:i+k,j:j+k])\n",
    "\n",
    "\tprint(int(np.min(new_land)))"
   ]
  },
  {
   "cell_type": "code",
   "execution_count": null,
   "id": "2a165016-7670-4527-b495-541e0910ed61",
   "metadata": {},
   "outputs": [],
   "source": []
  }
 ],
 "metadata": {
  "kernelspec": {
   "display_name": "Python 3",
   "language": "python",
   "name": "python3"
  },
  "language_info": {
   "codemirror_mode": {
    "name": "ipython",
    "version": 3
   },
   "file_extension": ".py",
   "mimetype": "text/x-python",
   "name": "python",
   "nbconvert_exporter": "python",
   "pygments_lexer": "ipython3",
   "version": "3.8.8"
  }
 },
 "nbformat": 4,
 "nbformat_minor": 5
}
